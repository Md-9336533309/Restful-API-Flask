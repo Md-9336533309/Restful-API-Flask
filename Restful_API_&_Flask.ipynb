{
  "nbformat": 4,
  "nbformat_minor": 0,
  "metadata": {
    "colab": {
      "provenance": []
    },
    "kernelspec": {
      "name": "python3",
      "display_name": "Python 3"
    },
    "language_info": {
      "name": "python"
    }
  },
  "cells": [
    {
      "cell_type": "markdown",
      "source": [
        "# Assignment Questions\n"
      ],
      "metadata": {
        "id": "zg39nOULfcqS"
      }
    },
    {
      "cell_type": "markdown",
      "source": [
        "# 1. What is a RESTful API?\n",
        "A RESTful API (Representational State Transfer API) is a way for two systems (like a client and a server) to communicate over the internet using simple HTTP methods (GET, POST, PUT, DELETE, etc.)."
      ],
      "metadata": {
        "id": "-I_g4aD6fhIn"
      }
    },
    {
      "cell_type": "markdown",
      "source": [
        "# 2. Explain the concept of API specification.\n",
        "An API specification is like a rulebook or blueprint that explains how a particular API works.\n",
        "\n",
        "\n"
      ],
      "metadata": {
        "id": "Ufa4BXh9ioSN"
      }
    },
    {
      "cell_type": "markdown",
      "source": [
        "# 3. What is Flask, and why is it popular for building APIs?\n",
        "Flask is a lightweight, open-source web framework written in Python that’s commonly used for building web applications and RESTful APIs.\n",
        "\n",
        "\n",
        "**Why Flask is Popular for Building APIs**\n",
        "\n",
        "1.Lightweight & Simple – Easy to learn, perfect for beginners and small projects.\n",
        "\n",
        "2.Flexible – You choose the components (databases, authentication, etc.).\n",
        "\n",
        "3.Quick Development – Write fewer lines of code to get an API running fast.\n",
        "\n",
        "4.Built-in Development Server – You can test your API locally without extra setup.\n",
        "\n",
        "5.Support for REST – Handles GET, POST, PUT, DELETE requests easily.\n",
        "\n",
        "6.Extensions – Many add-ons (Flask-SQLAlchemy, Flask-Login, etc.) for advanced needs.\n",
        "\n"
      ],
      "metadata": {
        "id": "yrbl8-p8jahe"
      }
    },
    {
      "cell_type": "markdown",
      "source": [
        "# 4. What is routing in Flask?\n",
        "Routing in Flask means deciding which URL should run which function in your web application or API."
      ],
      "metadata": {
        "id": "Wmqc6burmKEL"
      }
    },
    {
      "cell_type": "markdown",
      "source": [
        "# 5. How do you create a simple Flask application?\n",
        "Creating a simple Flask application is super easy—just a few lines of Python!\n",
        "\n",
        "1. Install Flask\n",
        "2. Create a Python File\n",
        "3. Write Basic Flask Code\n",
        "4. Run the App\n",
        "5. Open in Browser"
      ],
      "metadata": {
        "id": "zfg_Azh9nBG3"
      }
    },
    {
      "cell_type": "markdown",
      "source": [
        "# 6. What are HTTP methods used in RESTful APIs?\n",
        "In RESTful APIs, HTTP methods define what action you want to perform on a resource (data)."
      ],
      "metadata": {
        "id": "MsmIxZSupMD5"
      }
    },
    {
      "cell_type": "markdown",
      "source": [
        "# 7. What is the purpose of the @app.route() decorator in Flask?\n",
        "The @app.route() decorator in Flask is used to define routes, meaning it tells Flask which URL should trigger which Python function."
      ],
      "metadata": {
        "id": "acwgbKbLtamf"
      }
    },
    {
      "cell_type": "markdown",
      "source": [
        "# 8. What is the difference between GET and POST HTTP methods?\n",
        "**GET** retrieves data from the server without changing it, while **POST** sends data to the server to create or update a resource.\n",
        "\n"
      ],
      "metadata": {
        "id": "nkMK_s6hzCHP"
      }
    },
    {
      "cell_type": "markdown",
      "source": [
        "# 9. How do you handle errors in Flask APIs?\n",
        "In Flask APIs, errors are handled using error handlers and proper HTTP status codes to give meaningful responses instead of server crashes."
      ],
      "metadata": {
        "id": "vsTBFZfy0VId"
      }
    },
    {
      "cell_type": "markdown",
      "source": [
        "# 10. How do you connect Flask to a SQL database?\n",
        "Connecting Flask to a SQL database is usually done with Flask-SQLAlchemy, which makes it easy to interact with databases like MySQL, PostgreSQL, or SQLite.\n",
        "\n"
      ],
      "metadata": {
        "id": "zkAO52Fb1UtE"
      }
    },
    {
      "cell_type": "markdown",
      "source": [
        "# 11. What is the role of Flask-SQLAlchemy?\n",
        "Flask-SQLAlchemy is a Flask extension that makes it easy to connect Flask applications to SQL databases and interact with database tables using Python code instead of raw SQL queries.\n",
        "\n"
      ],
      "metadata": {
        "id": "AURTH1Wj6M0V"
      }
    },
    {
      "cell_type": "markdown",
      "source": [
        "# 12. What are Flask blueprints, and how are they useful?\n",
        "Flask Blueprints are a way to organize a Flask application into smaller, reusable, and modular components.\n",
        "\n",
        "\n",
        "Why Blueprints are Useful\n",
        "\n",
        "1.Modularity → Split a large app into multiple files (e.g., auth, products, admin).\n",
        "\n",
        "2.Reusability → Use the same blueprint in different projects.\n",
        "\n",
        "3.Organization → Keeps routes, templates, and static files grouped logically.\n",
        "\n",
        "4.Collaboration → Multiple developers can work on separate blueprints without conflict."
      ],
      "metadata": {
        "id": "vVMSIt157op4"
      }
    },
    {
      "cell_type": "markdown",
      "source": [
        "# 13. What is the purpose of Flask's request object?\n",
        "The Flask request object is used to access data sent by the client (browser or API consumer) to the server during an HTTP request."
      ],
      "metadata": {
        "id": "0ADRS9eS9nCr"
      }
    },
    {
      "cell_type": "markdown",
      "source": [
        "# 14. How do you create a RESTful API endpoint using Flask?\n",
        "The Flask request object is used to access data sent by the client (browser or API consumer) to the server during an HTTP request."
      ],
      "metadata": {
        "id": "KwuoW2oP-aAZ"
      }
    },
    {
      "cell_type": "markdown",
      "source": [
        "# 15. What is the purpose of Flask's jsonify() function?\n",
        "The jsonify() function in Flask is used to convert Python data (like dictionaries or lists) into a proper JSON response that an API client or browser can understand.\n",
        "\n",
        "\n"
      ],
      "metadata": {
        "id": "Rup7tgU5_jjM"
      }
    },
    {
      "cell_type": "markdown",
      "source": [
        "# 16. Explain Flask’s url_for() function.\n",
        "Flask’s url_for() function is used to build dynamic URLs for your Flask application. Instead of hardcoding URLs in your HTML or Python code, you use url_for() to generate them based on the function name of the view."
      ],
      "metadata": {
        "id": "OyA-gKKKCMro"
      }
    },
    {
      "cell_type": "markdown",
      "source": [
        "# 17. How does Flask handle static files (CSS, JavaScript, etc.)?\n",
        "Flask makes handling static files like CSS, JavaScript, and images very simple. Here's how it works:\n",
        "\n",
        "\n",
        "1. Default Static Folder\n",
        "2. URL to Access Static Files\n",
        "3. Using url_for() to Reference Static Files\n",
        "4. Example Flask App\n",
        "5. Changing Static Folder Name (Optional)\n"
      ],
      "metadata": {
        "id": "99-vfRpO-pN4"
      }
    },
    {
      "cell_type": "markdown",
      "source": [
        "# 18. What is an API specification, and how does it help in building a Flask API?\n",
        "\n",
        "An API Specification is a detailed, structured description of how an API works—it defines the endpoints, request methods, parameters, data formats, authentication, and response structures.\n",
        "\n",
        "When building a Flask API, having an API specification acts as a blueprint for both developers and consumers.\n",
        "\n",
        "\n",
        "How It Helps in Flask API Development\n",
        "\n",
        "1.  Planning: Helps design endpoints before coding.\n",
        "\n",
        "2. Consistency: Ensures uniform request and response structures.\n",
        "\n",
        "3. Team Collaboration: Frontend and backend teams can work in parallel.\n",
        "\n",
        "4.  Validation: Tools like Swagger/OpenAPI can auto-generate documentation and validate requests.\n",
        "\n",
        "5.  Testing: Testers know expected inputs and outputs.\n",
        "\n",
        "6.  Automation: Auto-generate client SDKs or server code from spec.\n",
        "\n",
        "\n"
      ],
      "metadata": {
        "id": "fEw95qTBAOpM"
      }
    },
    {
      "cell_type": "markdown",
      "source": [
        "# 19. What are HTTP status codes, and why are they important in a Flask API?\n",
        "HTTP status codes are standardized 3-digit numbers that a web server (or a Flask API) sends back in response to a client’s request. They indicate whether the request was successful or if an error occurred.\n",
        "\n",
        "  Importance in Flask API\n",
        "\n",
        "1.  Communication: Lets the client know the result of their request (success, failure, or partial success).\n",
        "\n",
        "2. Error Handling: Helps clients understand what went wrong without reading a long message.\n",
        "\n",
        "3. Standardization: Makes your API predictable and easier for developers to use.\n",
        "\n",
        "4. Automation: Allows frontend apps, scripts, and tools to make decisions based on the status code."
      ],
      "metadata": {
        "id": "HBIx7uUbBzCs"
      }
    },
    {
      "cell_type": "markdown",
      "source": [
        "# 20.  How do you handle POST requests in Flask?\n",
        "Handling POST requests in Flask is essential when you want to receive data from a client (e.g., form submission or sending JSON data to an API).\n",
        "\n",
        "1. Basic Syntax\n",
        "2. Handling JSON Data (Common in APIs)\n",
        "3. Handling File Uploads\n",
        "4. HTML Form Example\n"
      ],
      "metadata": {
        "id": "v8TakCFwGXdr"
      }
    },
    {
      "cell_type": "markdown",
      "source": [
        "# 21. How would you secure a Flask API?\n",
        "Securing a Flask API is critical to protect data and prevent unauthorized access. Here’s a complete guide to securing a Flask API:\n",
        "\n",
        "1. Use HTTPS (TLS/SSL)\n",
        "2. Authentication & Authorization\n",
        "3. Input Validation & Sanitization\n",
        "4. Prevent Cross-Site Request Forgery (CSRF)\n",
        "5. Rate Limiting & Throttling\n",
        "6. Secure Configuration\n",
        "7. Handle Errors Safely\n",
        "8. Enable CORS Safely\n",
        "9. Logging and Monitoring\n"
      ],
      "metadata": {
        "id": "2IX6GrZzJsfI"
      }
    },
    {
      "cell_type": "markdown",
      "source": [
        "# 22. What is the significance of the Flask-RESTful extension?\n",
        "\n",
        "The Flask-RESTful extension is a popular library that makes it easier and faster to build RESTful APIs with Flask. Instead of writing all the routes and methods manually, it provides tools and abstractions to handle common API tasks.\n",
        "\n",
        "Significance of Flask-RESTful\n",
        "\n",
        "1. Simplifies API Development\n",
        "2. Organizes Code (Class-based Views)\n",
        "3. Built-in Request Parsing\n",
        "4. Automatic JSON Responses\n",
        "5. Supports Resourceful Routing\n",
        "6. HTTP Status Codes & Error Handling\n",
        "7. Easy Scalability\n"
      ],
      "metadata": {
        "id": "Iyl7R5y4LWir"
      }
    },
    {
      "cell_type": "markdown",
      "source": [
        "# 23. What is the role of Flask’s session object?\n",
        "Flask’s session object is used to store information about a user across multiple requests. It helps maintain state in a stateless HTTP protocol (where each request is independent).\n",
        "\n",
        "Key Roles of Flask session\n",
        "\n",
        "1. Stores User-Specific Data Temporarily\n",
        "2. Maintains User Login State\n",
        "3. Secure Data Storage\n",
        "4. Persists Data Across Requests\n"
      ],
      "metadata": {
        "id": "wJWdchHqNJN0"
      }
    },
    {
      "cell_type": "markdown",
      "source": [
        "# Practical"
      ],
      "metadata": {
        "id": "qjWCBq6-P41e"
      }
    },
    {
      "cell_type": "code",
      "source": [
        "# 1. How do you create a basic Flask application?\n",
        "\n",
        "\n",
        "from flask import Flask\n",
        "app = Flask(__name__)\n",
        "\n",
        "@app.route('/')\n",
        "def home():\n",
        "    return \"Hello, Flask!\"\n",
        "\n",
        "if __name__ == '__main__':\n",
        "    app.run(debug=True)\n"
      ],
      "metadata": {
        "id": "zWKsCUt7SMnW"
      },
      "execution_count": null,
      "outputs": []
    },
    {
      "cell_type": "code",
      "source": [
        "# 2. How do you serve static files like images or CSS in Flask?\n",
        "from flask import Flask, send_from_directory\n",
        "\n",
        "app = Flask(__name__)\n",
        "\n",
        "@app.route('/static/<filename>')\n",
        "def send_static(filename):\n",
        "  return send_from_directory('static', filename)\n",
        "\n",
        "if __name__ == '__main__':\n",
        "  app.run(debug=True)"
      ],
      "metadata": {
        "id": "y-uqCtiOZM7J"
      },
      "execution_count": null,
      "outputs": []
    },
    {
      "cell_type": "code",
      "source": [
        "# 3. How do you define different routes with different HTTP methods in Flask?\n",
        "\n",
        "from flask import Flask\n",
        "app = Flask(__name__)\n",
        "\n",
        "@app.route('/greet', methods=['GET'])\n",
        "def greet():\n",
        "  return \"Hello World!\"\n",
        "if __name__ == '__main__':\n",
        "  app.run(debug=True)"
      ],
      "metadata": {
        "id": "EA8HvWmYdbLm"
      },
      "execution_count": null,
      "outputs": []
    },
    {
      "cell_type": "code",
      "source": [
        "# 4. How do you render HTML templates in Flask?\n",
        "\n",
        "from flask import Flask, render_template\n",
        "app = Flask(__name__)\n",
        "\n",
        "@app.route('/')\n",
        "def index():\n",
        "  return render_template('index.html')\n",
        "\n",
        "if __name__ == 'main__':\n",
        "  app.run(debug =True)"
      ],
      "metadata": {
        "id": "0UIFGHUQdnIp"
      },
      "execution_count": null,
      "outputs": []
    },
    {
      "cell_type": "code",
      "source": [
        "# 5. How can you generate URLs for routes in Flask using url_for?\n",
        "\n",
        "from flask import Flask, url_for\n",
        "appp = Flask(__name__)\n",
        "\n",
        "@appp.route('/home')\n",
        "def home():\n",
        "  return 'This is the home page.'\n",
        "\n",
        "@appp.route('/')\n",
        "def index():\n",
        "  return f'<a href=\"{url_for(\"home\")}\">Go to Home </a>'\n",
        "\n",
        "if __name__ == 'main':\n",
        "  appp.run(debug=True)"
      ],
      "metadata": {
        "id": "GIW7jhANkg7z"
      },
      "execution_count": null,
      "outputs": []
    },
    {
      "cell_type": "code",
      "source": [
        "# 6. How do you handle forms in Flask?\n",
        "\n",
        "from flask import Flask, request, render_template\n",
        "app = Flask(__name__)\n",
        "\n",
        "@app.route('/submit', methods=['GET', 'POST'])\n",
        "def submit():\n",
        "  if request.method == 'POST':\n",
        "    name = request.form['name']\n",
        "    return f\"Hello {name}!\"\n",
        "  return render_template('form.html')\n",
        "\n",
        "if __name__ == '__main__':\n",
        "  app.run(debug = True)"
      ],
      "metadata": {
        "id": "ltqKIXEQuvWF"
      },
      "execution_count": null,
      "outputs": []
    },
    {
      "cell_type": "code",
      "source": [
        "# 7. How can you validate form data in Flask?\n",
        "\n",
        "from flask import Flask, request, Flask, redirect, url_for\n",
        "app = Flask(__name__)\n",
        "\n",
        "@app.route('/login', methods = ['POST'])\n",
        "def login():\n",
        "  username = request.form['username']\n",
        "  if not username:\n",
        "    Flask('Username is required!')\n",
        "    return redirect(url_for('login'))\n",
        "  return 'Login successful'\n",
        "\n",
        "if __name__ == '__main__':\n",
        "  app.run(debug = True)"
      ],
      "metadata": {
        "id": "o_H2BnjIwelo"
      },
      "execution_count": null,
      "outputs": []
    },
    {
      "cell_type": "code",
      "source": [
        "# 8. How do you manage sessions in Flask?\n",
        "\n",
        "from flask import Flask, session\n",
        "app = Flask(__name__)\n",
        "app.secret_key = 'secret'\n",
        "\n",
        "@app.route('/set_user')\n",
        "def set_user():\n",
        "  session['user'] = 'John'\n",
        "  return 'User set'\n",
        "\n",
        "@app.route('/get_user')\n",
        "def get_user():\n",
        "  return f'Logged in as {session.get(\"user\", \"Guest\")}'\n",
        "\n",
        "if __name__ == '__main__':\n",
        "       app.run(debug = True)"
      ],
      "metadata": {
        "id": "eVLY_i7V1q7m"
      },
      "execution_count": null,
      "outputs": []
    },
    {
      "cell_type": "code",
      "source": [
        "# 9. How do you redirect to a different route in Flask?\n",
        "\n",
        "from flask import Flask, redirect, url_for\n",
        "app = Flask(__name__)\n",
        "\n",
        "@app.route('/redirect_home')\n",
        "def redirect_home():\n",
        "  return redirect(url_for('home'))\n",
        "\n",
        "@app.route('/home')\n",
        "def home():\n",
        "  return 'This is the home page.'\n",
        "\n",
        "if __name__ == '__main__':\n",
        "  app.run(debug = True)"
      ],
      "metadata": {
        "id": "Co7Phae03Qp1"
      },
      "execution_count": null,
      "outputs": []
    },
    {
      "cell_type": "code",
      "source": [
        "# 10. How do you handle errors in Flask (e.g., 404)?\n",
        "\n",
        "from flask import Flask\n",
        "app = Flask(__name__)\n",
        "\n",
        "@app.errorhandler(404)\n",
        "def page_not_found(e):\n",
        "  return 'Page not found', 404\n",
        "\n",
        "@app.route('/')\n",
        "def home():\n",
        "  return 'Welcome to the home page.'\n",
        "\n",
        "if __name__ == '__main__':\n",
        "  app.run(debug = True)"
      ],
      "metadata": {
        "id": "Y1Wqo8Fm5Hzw"
      },
      "execution_count": null,
      "outputs": []
    },
    {
      "cell_type": "code",
      "source": [
        "# 11. How do you structure a Flask app using Blueprints?\n",
        "\n",
        "from flask import Flask, Blueprint\n",
        "app = Flask(__name__)\n",
        "\n",
        "bp = Blueprint('home', __name__)\n",
        "\n",
        "@bp.route('/')\n",
        "def index():\n",
        "  return 'Home page'\n",
        "\n",
        "app.register_blueprint(bp)\n",
        "\n",
        "if __name__ == '__main__':\n",
        "  app.run(debug = True)"
      ],
      "metadata": {
        "id": "mZU-w9Ls7nnZ"
      },
      "execution_count": null,
      "outputs": []
    },
    {
      "cell_type": "code",
      "source": [
        "# 12. How do you define a custom Jinja filter in Flask?\n",
        "\n",
        "from flask import Flask, render_template\n",
        "app = Flask(__name__)\n",
        "\n",
        "@app.template_filter('reverse')\n",
        "def reverse_filter(s):\n",
        "  return s[:: -1]\n",
        "\n",
        "@app.route('/')\n",
        "def home():\n",
        "  return render_template('home.html', name = 'Flask')\n",
        "\n",
        "if __name__ == '__main__':\n",
        "  app.run(debug = True)"
      ],
      "metadata": {
        "id": "sEER5Zay-FJJ"
      },
      "execution_count": null,
      "outputs": []
    },
    {
      "cell_type": "code",
      "source": [
        "# 13. How can you redirect with query parameters in Flask?\n",
        "\n",
        "from flask import Flask, redirect,  url_for\n",
        "app = Flask(__name__)\n",
        "\n",
        "@app.route('/redirect_with_query')\n",
        "def redirect_with_query():\n",
        "  return redirect(url_for('home', username = 'john'))\n",
        "\n",
        "@app.route('/home')\n",
        "def home():\n",
        "  return f'Welcome, {request.args.get(\"username\")}'\n",
        "\n",
        "if __name__ == '__main__':\n",
        "  app.run(debug = True)"
      ],
      "metadata": {
        "id": "Pyh6TbbRDHBA"
      },
      "execution_count": null,
      "outputs": []
    },
    {
      "cell_type": "code",
      "source": [
        "# 14. How do you return JSON responses in Flask?\n",
        "\n",
        "from flask import Flask, jsonify\n",
        "app = Flask(__name__)\n",
        "\n",
        "@app.route('/data')\n",
        "def data():\n",
        "  return jsonify({\"name\": \"Flask\", \"version\": \"2.0\"})\n",
        "\n",
        "if __name__ == \"__main__\":\n",
        "  app.run(debug = True)"
      ],
      "metadata": {
        "id": "QvkxhvpSEKhK"
      },
      "execution_count": null,
      "outputs": []
    },
    {
      "cell_type": "code",
      "source": [
        "# 15. How do you capture URL parameters in Flask?\n",
        "\n",
        "from flask import Flask\n",
        "app = Flask(__name__)\n",
        "\n",
        "@app.route('/user/<username>')\n",
        "def user(username):\n",
        "  return f\"Hello, {username}!\"\n",
        "\n",
        "if __name__ == '__main__':\n",
        "  app.run(debug =True)"
      ],
      "metadata": {
        "id": "XqyvddkYFU8C"
      },
      "execution_count": null,
      "outputs": []
    }
  ]
}